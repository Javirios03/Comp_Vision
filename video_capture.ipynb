{
 "cells": [
  {
   "cell_type": "code",
   "execution_count": null,
   "metadata": {},
   "outputs": [],
   "source": [
    "import cv2\n",
    "from picamera2 import PiCamera2 as PiCamera"
   ]
  },
  {
   "cell_type": "code",
   "execution_count": null,
   "metadata": {},
   "outputs": [],
   "source": [
    "def stream_video():\n",
    "    camera = PiCamera()\n",
    "    camera.preview_configuration.main.size = (640, 480)\n",
    "    camera.preview_configuration.main.format = \"RGB888\"\n",
    "    camera.preview_configuration.align()\n",
    "    camera.video_configuration.controls.FrameRate = 10.0\n",
    "\n",
    "    camera.configure(\"preview\")\n",
    "    camera.start()\n",
    "\n",
    "    # Capture frames from the camera\n",
    "    while True:\n",
    "        # Grab a single frame of video\n",
    "        frame = camera.capture_array()\n",
    "        #frame = cv2.cvtColor(frame, cv2.COLOR_BGR2RGB)\n",
    "        # Display the resulting frame\n",
    "        cv2.imshow('Video', frame)\n",
    "        # Wait for Enter key to stop\n",
    "        if cv2.waitKey(1) == 13:\n",
    "            break\n",
    "\n",
    "    # When everything done, release the capture\n",
    "    cv2.destroyAllWindows()\n",
    "\n",
    "stream_video()"
   ]
  }
 ],
 "metadata": {
  "language_info": {
   "name": "python"
  }
 },
 "nbformat": 4,
 "nbformat_minor": 2
}
